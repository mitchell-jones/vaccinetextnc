{
 "cells": [
  {
   "cell_type": "markdown",
   "metadata": {},
   "source": [
    "# Find a Vaccine - Get a Text to Your Phone!"
   ]
  },
  {
   "cell_type": "markdown",
   "metadata": {},
   "source": [
    "## Package Imports"
   ]
  },
  {
   "cell_type": "code",
   "execution_count": 1,
   "metadata": {},
   "outputs": [],
   "source": [
    "import requests\n",
    "import pandas as pd\n",
    "import time\n",
    "from datetime import datetime\n",
    "import os\n",
    "from twilio.rest import Client\n",
    "from IPython.display import clear_output"
   ]
  },
  {
   "cell_type": "markdown",
   "metadata": {},
   "source": [
    "## User Changeable Parameters"
   ]
  },
  {
   "cell_type": "code",
   "execution_count": 2,
   "metadata": {},
   "outputs": [],
   "source": [
    "url = 'https://www.vaccinespotter.org/api/v0/states/NC.json'\n",
    "# to use this in a different state, you'll need a new url. Check vaccinespotter.org for more info!"
   ]
  },
  {
   "cell_type": "code",
   "execution_count": 3,
   "metadata": {},
   "outputs": [],
   "source": [
    "city_list = (('CHARLOTTE', 'ASHEVILLE', 'HARRISBURG', 'CONCORD')) # specify which cities you'd like to check"
   ]
  },
  {
   "cell_type": "code",
   "execution_count": 4,
   "metadata": {},
   "outputs": [],
   "source": [
    "view_times = False # view_times = True will print appointment times to console if found\n",
    "failure_text = True # failure_text = True will send you a text when no appts are founds"
   ]
  },
  {
   "cell_type": "code",
   "execution_count": 5,
   "metadata": {},
   "outputs": [],
   "source": [
    "success_sleep_mins = 30 # How many min to wait after finding appts\n",
    "failure_sleep_mins= 2 # How many min to wait after not finding appts"
   ]
  },
  {
   "cell_type": "markdown",
   "metadata": {},
   "source": [
    "### Twilio Auth Parameters"
   ]
  },
  {
   "cell_type": "code",
   "execution_count": 6,
   "metadata": {},
   "outputs": [],
   "source": [
    "account_sid = '' # hide\n",
    "auth_token = '' # hide\n",
    "\n",
    "outphone = '' # hide\n",
    "fromphone = '' #hide\n",
    "\n",
    "client = Client(account_sid, auth_token)"
   ]
  },
  {
   "cell_type": "markdown",
   "metadata": {},
   "source": [
    "## Function Definitions"
   ]
  },
  {
   "cell_type": "code",
   "execution_count": 7,
   "metadata": {},
   "outputs": [],
   "source": [
    "def convert_time(string):\n",
    "    date = datetime.strptime(string, '%Y-%m-%dT%H:%M:%S.%f%z')\n",
    "    date = datetime.strftime(date, '%A %B %d, %Y, at %H:%M %p')\n",
    "    return date"
   ]
  },
  {
   "cell_type": "code",
   "execution_count": 8,
   "metadata": {},
   "outputs": [],
   "source": [
    "def successful_text():\n",
    "    message = \"\"\"\n",
    "    Appointments found at the following location:\n",
    "    {}, {} NC {}\n",
    "    Access via this link: {}\n",
    "    Checking again in {} minutes.\n",
    "    \"\"\".format(usable_data['address'], usable_data['city'], usable_data['postal_code'], usable_data['url'], success_sleep_mins)\n",
    "    client.api.account.messages.create(\n",
    "    to=outphone,\n",
    "    from_=fromphone,\n",
    "    body=message)"
   ]
  },
  {
   "cell_type": "code",
   "execution_count": 9,
   "metadata": {},
   "outputs": [],
   "source": [
    "def failure(send_failure_text = True):\n",
    "    if send_failure_text:\n",
    "        current_time = datetime.now()\n",
    "        message = \"\"\"\n",
    "        No available appointments found. Checking for new appointments every {} minutes.\n",
    "        \"\"\".format(failure_sleep_mins)\n",
    "        client.api.account.messages.create(\n",
    "        to=outphone,\n",
    "        from_ =fromphone,\n",
    "        body=message)"
   ]
  },
  {
   "cell_type": "markdown",
   "metadata": {},
   "source": [
    "## Extra Variables"
   ]
  },
  {
   "cell_type": "code",
   "execution_count": 10,
   "metadata": {},
   "outputs": [],
   "source": [
    "success_sleep_secs = success_sleep_mins * 60\n",
    "failure_sleep_secs = failure_sleep_mins * 60\n",
    "empty_list = [] # Create empty list to compare against for appointments. No need to change this."
   ]
  },
  {
   "cell_type": "markdown",
   "metadata": {},
   "source": [
    "## Main Loop"
   ]
  },
  {
   "cell_type": "code",
   "execution_count": null,
   "metadata": {},
   "outputs": [],
   "source": [
    "while True:\n",
    "    response = requests.get(url)\n",
    "    if response.status_code != 200:\n",
    "        raise Exception('Status code is not 200!')\n",
    "    data = response.json()['features']\n",
    "    for i in data:\n",
    "        usable_data = i['properties']\n",
    "        if city := (usable_data['city'].upper()) in city_list and usable_data['appointments_available_all_doses'] == True \\\n",
    "        and usable_data['appointments'] != empty_list:\n",
    "            clear_output()\n",
    "            print('Appointments available at the following locations:')\n",
    "            print('{}, {} NC {}'.format(usable_data['address'], city, usable_data['postal_code']))\n",
    "            successful_text()\n",
    "            if view_times:\n",
    "                for x in usable_data['appointments']:\n",
    "                    print('Time: {}'.format(convert_time(x['time'])))\n",
    "            time.sleep(success_sleep_secs)\n",
    "            clear_output()\n",
    "            print('Getting new data!')\n",
    "    else:\n",
    "        failure(failure_text)\n",
    "        time.sleep(failure_sleep_secs)"
   ]
  }
 ],
 "metadata": {
  "kernelspec": {
   "display_name": "Python 3",
   "language": "python",
   "name": "python3"
  },
  "language_info": {
   "codemirror_mode": {
    "name": "ipython",
    "version": 3
   },
   "file_extension": ".py",
   "mimetype": "text/x-python",
   "name": "python",
   "nbconvert_exporter": "python",
   "pygments_lexer": "ipython3",
   "version": "3.8.5"
  }
 },
 "nbformat": 4,
 "nbformat_minor": 4
}
