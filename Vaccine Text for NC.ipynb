{
 "cells": [
  {
   "cell_type": "markdown",
   "metadata": {},
   "source": [
    "# Find a Vaccine - Get a Text to Your Phone!"
   ]
  },
  {
   "cell_type": "code",
   "execution_count": 1,
   "metadata": {},
   "outputs": [],
   "source": [
    "import requests\n",
    "import pandas as pd\n",
    "import time\n",
    "from datetime import datetime\n",
    "import os\n",
    "from twilio.rest import Client\n",
    "from IPython.display import clear_output"
   ]
  },
  {
   "cell_type": "code",
   "execution_count": 3,
   "metadata": {},
   "outputs": [],
   "source": [
    "def convert_time(string):\n",
    "    date = datetime.strptime(string, '%Y-%m-%dT%H:%M:%S.%f%z')\n",
    "    date = datetime.strftime(date, '%A %B %d, %Y, at %H:%M %p')\n",
    "    return date"
   ]
  },
  {
   "cell_type": "code",
   "execution_count": 4,
   "metadata": {},
   "outputs": [],
   "source": [
    "def successful():\n",
    "    message = \"\"\"\n",
    "    Appointments found at the following location:\n",
    "    {}, {} NC {}\n",
    "    Access via this link: {}\n",
    "    Checking again in {} minutes.\n",
    "    \"\"\".format(usable_data['address'], usable_data['city'], usable_data['postal_code'], usable_data['url'], success_sleep_mins)\n",
    "    client.api.account.messages.create(\n",
    "    to=outphone,\n",
    "    from_=fromphone,\n",
    "    body=message)"
   ]
  },
  {
   "cell_type": "code",
   "execution_count": 5,
   "metadata": {},
   "outputs": [],
   "source": [
    "def failure(send_failure_text = True):\n",
    "    if send_failure_text:\n",
    "        current_time = datetime.now()\n",
    "        message = \"\"\"\n",
    "        No available appointments found. Checking for new appointments every {} minutes.\n",
    "        \"\"\".format(failure_sleep_mins)\n",
    "        client.api.account.messages.create(\n",
    "        to=outphone,\n",
    "        from_ =fromphone,\n",
    "        body=message)"
   ]
  },
  {
   "cell_type": "markdown",
   "metadata": {},
   "source": [
    "## Twilio Auth"
   ]
  },
  {
   "cell_type": "code",
   "execution_count": null,
   "metadata": {},
   "outputs": [],
   "source": [
    "account_sid = '' # hide\n",
    "auth_token = '' # hide\n",
    "\n",
    "outphone = '' # hide\n",
    "fromphone = '' #hide\n",
    "\n",
    "client = Client(account_sid, auth_token)"
   ]
  },
  {
   "cell_type": "markdown",
   "metadata": {},
   "source": [
    "## Parameters"
   ]
  },
  {
   "cell_type": "code",
   "execution_count": 6,
   "metadata": {},
   "outputs": [],
   "source": [
    "empty_list = [] # Create empty list to compare against for appointments. No need to change this."
   ]
  },
  {
   "cell_type": "code",
   "execution_count": 7,
   "metadata": {},
   "outputs": [],
   "source": [
    "city_list = (('CHARLOTTE', 'ASHEVILLE', 'HARRISBURG', 'CONCORD', 'ROCKINGHAM')) # specify which cities you'd like to check"
   ]
  },
  {
   "cell_type": "code",
   "execution_count": 8,
   "metadata": {},
   "outputs": [],
   "source": [
    "view_times = False # view_times = True will print appointment times to console if found"
   ]
  },
  {
   "cell_type": "code",
   "execution_count": 9,
   "metadata": {},
   "outputs": [],
   "source": [
    "success_sleep_mins = 30 # How many min to wait after finding appts\n",
    "failure_sleep_mins= 2 # How many min to wait after not finding appts\n",
    "\n",
    "success_sleep_secs = success_sleep_mins * 60\n",
    "failure_sleep_secs = failure_sleep_mins * 60"
   ]
  },
  {
   "cell_type": "markdown",
   "metadata": {},
   "source": [
    "## Main Loop"
   ]
  },
  {
   "cell_type": "code",
   "execution_count": null,
   "metadata": {},
   "outputs": [
    {
     "name": "stdout",
     "output_type": "stream",
     "text": [
      "Appointments available at the following locations:\n",
      "1500 E BROAD AVE, ROCKINGHAM NC 28379\n"
     ]
    }
   ],
   "source": [
    "while True:\n",
    "    response = requests.get('https://www.vaccinespotter.org/api/v0/states/NC.json')\n",
    "    if response.status_code != 200:\n",
    "        raise Exception('Status code is not 200!')\n",
    "    data = response.json()['features']\n",
    "    for i in data:\n",
    "        usable_data = i['properties']\n",
    "        if usable_data['city'].upper() in city_list and \\\n",
    "        usable_data['appointments_available_all_doses'] == True \\\n",
    "        and usable_data['appointments'] != empty_list:\n",
    "            clear_output()\n",
    "            print('Appointments available at the following locations:')\n",
    "            print('{}, {} NC {}'.format(usable_data['address'], usable_data['city'], usable_data['postal_code']))\n",
    "            successful()\n",
    "            if view_times:\n",
    "                for x in usable_data['appointments']:\n",
    "                    print('Time: {}'.format(convert_time(x['time'])))\n",
    "            time.sleep(success_sleep_secs)\n",
    "            clear_output()\n",
    "            print('Getting new data!')\n",
    "    else:\n",
    "        failure(True)\n",
    "        time.sleep(failure_sleep_secs)"
   ]
  }
 ],
 "metadata": {
  "kernelspec": {
   "display_name": "Python 3",
   "language": "python",
   "name": "python3"
  },
  "language_info": {
   "codemirror_mode": {
    "name": "ipython",
    "version": 3
   },
   "file_extension": ".py",
   "mimetype": "text/x-python",
   "name": "python",
   "nbconvert_exporter": "python",
   "pygments_lexer": "ipython3",
   "version": "3.8.5"
  }
 },
 "nbformat": 4,
 "nbformat_minor": 4
}
